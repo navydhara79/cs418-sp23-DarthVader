{
 "cells": [
  {
   "cell_type": "markdown",
   "metadata": {},
   "source": [
    "# Milestone 4. Progress report \n",
    "\n",
    "Link to GitHub repo:  https://github.com/navydhara79/cs418-sp23-DarthVader"
   ]
  },
  {
   "cell_type": "markdown",
   "metadata": {},
   "source": [
    "## Changes: \n",
    "\n",
    "- There have not been any significant changes to report\n",
    "- Our aim has remained the same since the last check-in and we are working on progress towards sour aim."
   ]
  },
  {
   "cell_type": "markdown",
   "metadata": {},
   "source": [
    "## Data: \n",
    "\n",
    "- We have decided on working with the 2015 earthquake open portal data. \n",
    "- This is a very large, unprocessed data of 11 earthquake affected districts,  762,106 buildings and 3,677,173 individuals. There are 38 features in total in 3 datasets, like building’s age, # floors, use etc.\n",
    "- The data is raw and noisy with missing values and poses challenges for data cleaning. \n",
    "\n",
    "The three datasets we are working on are described below: \n",
    "\n",
    "\n",
    "\n",
    "1.  csv_building_damage_assessment: This dataset contains information about the extent of damage to buildings caused by the earthquake. It includes columns such as building ID, building location, building type, degree of damage (e.g. destroyed, severely damaged, moderately damaged, lightly damaged), and the estimated cost of repair. This dataset can be used to analyze the overall impact of the earthquake on buildings in different regions, as well as to explore factors that may have influenced the degree of damage to different types of buildings.\n",
    "2.  csv_building_structure: This dataset contains information about the structural characteristics of buildings, such as the number of stories, construction materials, and age. It also includes information about the seismic hazard zone of the building, based on the Nepal Building Code. This dataset can be used to analyze the relationship between building structure and the degree of damage caused by the earthquake, as well as to identify factors that may contribute to the vulnerability of certain types of buildings\n",
    "3. csv_building_ownership_and_use: This dataset contains information about the ownership and use of buildings, such as whether the building is owned by an individual or an organization, and whether it is used for residential or non-residential purposes. It also includes information about the occupancy status of the building at the time of the earthquake. This dataset can be used to explore the relationship between building ownership, use, and occupancy status, and the degree of damage caused by the earthquake.\n",
    "\n",
    "The details of the data have been displayed below"
   ]
  }
 ],
 "metadata": {
  "kernelspec": {
   "display_name": "Python 3",
   "language": "python",
   "name": "python3"
  },
  "language_info": {
   "name": "python",
   "version": "3.9.0"
  },
  "orig_nbformat": 4
 },
 "nbformat": 4,
 "nbformat_minor": 2
}
